{
 "cells": [
  {
   "cell_type": "code",
   "execution_count": 1,
   "metadata": {},
   "outputs": [],
   "source": [
    "import scanpy as sc\n",
    "import numpy as np\n",
    "import scprep\n",
    "from anndata import AnnData\n",
    "import phate\n",
    "from phate.cluster import kmeans\n",
    "import pandas as pd\n",
    "import matplotlib.pyplot as plt\n",
    "from mpl_toolkits.mplot3d import Axes3D"
   ]
  },
  {
   "cell_type": "code",
   "execution_count": 2,
   "metadata": {},
   "outputs": [],
   "source": [
    "import sys\n",
    "sys.path.append('..')\n",
    "from dhg import Hypergraph\n",
    "from hypgs.models.hsn_pyg import HSN\n",
    "from hypgs.utils.data import HGDataset\n",
    "from torch_geometric.loader import DataLoader\n",
    "from torch_geometric.data import Dataset\n",
    "import pytorch_lightning as pl\n",
    "from pytorch_lightning.callbacks import EarlyStopping\n",
    "from torch.utils.data import random_split\n",
    "from pytorch_lightning.loggers import TensorBoardLogger\n",
    "from hypgs import DATA_DIR\n",
    "import anndata\n",
    "import os\n",
    "import torch\n",
    "import numpy as np\n",
    "import phate\n",
    "from sklearn.neighbors import NearestNeighbors\n",
    "import networkx as nx\n",
    "import matplotlib.pyplot as plt\n",
    "from sklearn.metrics.pairwise import euclidean_distances\n",
    "import scanpy as sc\n",
    "from sklearn.neighbors import kneighbors_graph\n",
    "import random \n",
    "from torch_geometric.utils.convert import from_networkx\n",
    "from importlib import reload\n",
    "from hypgs.models.hsn_pyg import HyperScatteringModule\n",
    "from torch_geometric.utils.convert import from_networkx\n",
    "from einops import rearrange\n",
    "from scipy.spatial import ConvexHull\n",
    "from hypgs.utils.plot import plot_wavelets, get_hyperedge_pos_df, compute_enlarged_hulls, plot_hulls\n",
    "from hypgs.utils.hypergraph_utils import get_cliques_planar\n",
    "from scipy.spatial import Voronoi, voronoi_plot_2d\n",
    "from hypgs.utils.graph_build import calcualte_voronoi_from_coords, build_graph_from_cell_coords, build_graph_from_voronoi_polygons, build_voronoi_polygon_to_cell_mapping, plot_voronoi_polygons, plot_graph, assign_attributes\n",
    "from hypgs.utils.plot import get_wv_plots\n",
    "device = torch.device('cuda' if torch.cuda.is_available() else 'cpu')"
   ]
  },
  {
   "cell_type": "code",
   "execution_count": 3,
   "metadata": {},
   "outputs": [],
   "source": [
    "adata_subset = sc.read_h5ad(\"merfish_H20.33.001.CX28.MTG.02.007.1.02.02.h5ad\", backed='r')"
   ]
  },
  {
   "cell_type": "code",
   "execution_count": null,
   "metadata": {},
   "outputs": [],
   "source": [
    "coordinates = adata_subset.obsm['X_selected_cell_spatial_tiled']\n",
    "coordinates = coordinates - coordinates.min(axis=0)\n",
    "xmax, ymax = coordinates.max(axis=0)\n",
    "voronoi_polygons = calcualte_voronoi_from_coords(coordinates[:, 0], coordinates[:, 1])\n",
    "cell_data = pd.DataFrame(np.c_[adata_subset.obs.index, coordinates], columns=['CELL_ID', 'X', 'Y'])\n",
    "G, node_to_cell_mapping = build_graph_from_cell_coords(cell_data, voronoi_polygons)\n",
    "G = assign_attributes(G, cell_data, node_to_cell_mapping)"
   ]
  },
  {
   "cell_type": "code",
   "execution_count": null,
   "metadata": {},
   "outputs": [],
   "source": [
    "X_data = adata_subset[:,:].X.toarray()\n",
    "for nhop in [1, 2, 3, 4]:\n",
    "    get_wv_plots(G, X_data, coordinates, num_hops=nhop, graph_info='voronoi', device=device)"
   ]
  }
 ],
 "metadata": {
  "kernelspec": {
   "display_name": "pyg",
   "language": "python",
   "name": "python3"
  },
  "language_info": {
   "codemirror_mode": {
    "name": "ipython",
    "version": 3
   },
   "file_extension": ".py",
   "mimetype": "text/x-python",
   "name": "python",
   "nbconvert_exporter": "python",
   "pygments_lexer": "ipython3",
   "version": "3.9.16"
  }
 },
 "nbformat": 4,
 "nbformat_minor": 2
}
