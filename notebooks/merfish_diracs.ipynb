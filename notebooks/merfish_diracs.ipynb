{
 "cells": [
  {
   "cell_type": "code",
   "execution_count": null,
   "id": "ad67bc40",
   "metadata": {
    "execution": {
     "iopub.execute_input": "2023-12-15T20:02:12.416678Z",
     "iopub.status.busy": "2023-12-15T20:02:12.416495Z",
     "iopub.status.idle": "2023-12-15T20:02:55.203428Z",
     "shell.execute_reply": "2023-12-15T20:02:55.202959Z"
    },
    "papermill": {
     "duration": 42.794155,
     "end_time": "2023-12-15T20:02:55.205227",
     "exception": false,
     "start_time": "2023-12-15T20:02:12.411072",
     "status": "completed"
    },
    "tags": []
   },
   "outputs": [],
   "source": [
    "import scanpy as sc\n",
    "import numpy as np\n",
    "import scprep\n",
    "from anndata import AnnData\n",
    "import phate\n",
    "from phate.cluster import kmeans\n",
    "import pandas as pd\n",
    "import matplotlib.pyplot as plt\n",
    "from mpl_toolkits.mplot3d import Axes3D"
   ]
  },
  {
   "cell_type": "code",
   "execution_count": null,
   "id": "e24251b7",
   "metadata": {
    "execution": {
     "iopub.execute_input": "2023-12-15T20:02:55.212611Z",
     "iopub.status.busy": "2023-12-15T20:02:55.212300Z",
     "iopub.status.idle": "2023-12-15T20:03:17.306089Z",
     "shell.execute_reply": "2023-12-15T20:03:17.305593Z"
    },
    "papermill": {
     "duration": 22.098124,
     "end_time": "2023-12-15T20:03:17.307785",
     "exception": false,
     "start_time": "2023-12-15T20:02:55.209661",
     "status": "completed"
    },
    "tags": []
   },
   "outputs": [],
   "source": [
    "import sys\n",
    "sys.path.append('..')\n",
    "from dhg import Hypergraph\n",
    "from hypgs.models.hsn_pyg import HSN\n",
    "from hypgs.utils.data import HGDataset\n",
    "from torch_geometric.loader import DataLoader\n",
    "from torch_geometric.data import Dataset\n",
    "import pytorch_lightning as pl\n",
    "from pytorch_lightning.callbacks import EarlyStopping\n",
    "from torch.utils.data import random_split\n",
    "from pytorch_lightning.loggers import TensorBoardLogger\n",
    "from hypgs import DATA_DIR\n",
    "import anndata\n",
    "import os\n",
    "import torch\n",
    "import numpy as np\n",
    "import phate\n",
    "from sklearn.neighbors import NearestNeighbors\n",
    "import networkx as nx\n",
    "import matplotlib.pyplot as plt\n",
    "from sklearn.metrics.pairwise import euclidean_distances\n",
    "import scanpy as sc\n",
    "from sklearn.neighbors import kneighbors_graph\n",
    "import random \n",
    "from torch_geometric.utils.convert import from_networkx\n",
    "from importlib import reload\n",
    "from hypgs.models.hsn_pyg import HyperScatteringModule\n",
    "from torch_geometric.utils.convert import from_networkx\n",
    "from einops import rearrange\n",
    "from scipy.spatial import ConvexHull\n",
    "from hypgs.utils.plot import plot_wavelets, get_hyperedge_pos_df, compute_enlarged_hulls, plot_hulls\n",
    "from hypgs.utils.hypergraph_utils import get_cliques_planar\n",
    "\n",
    "device = torch.device('cuda' if torch.cuda.is_available() else 'cpu')"
   ]
  },
  {
   "cell_type": "code",
   "execution_count": null,
   "id": "74088a59",
   "metadata": {
    "execution": {
     "iopub.execute_input": "2023-12-15T20:03:17.314479Z",
     "iopub.status.busy": "2023-12-15T20:03:17.314289Z",
     "iopub.status.idle": "2023-12-15T20:03:17.321948Z",
     "shell.execute_reply": "2023-12-15T20:03:17.321582Z"
    },
    "papermill": {
     "duration": 0.011355,
     "end_time": "2023-12-15T20:03:17.323085",
     "exception": false,
     "start_time": "2023-12-15T20:03:17.311730",
     "status": "completed"
    },
    "tags": []
   },
   "outputs": [],
   "source": [
    "device"
   ]
  },
  {
   "cell_type": "code",
   "execution_count": null,
   "id": "c8640a5a",
   "metadata": {
    "execution": {
     "iopub.execute_input": "2023-12-15T20:03:17.327334Z",
     "iopub.status.busy": "2023-12-15T20:03:17.327175Z",
     "iopub.status.idle": "2023-12-15T20:03:17.445427Z",
     "shell.execute_reply": "2023-12-15T20:03:17.444994Z"
    },
    "papermill": {
     "duration": 0.12219,
     "end_time": "2023-12-15T20:03:17.447026",
     "exception": false,
     "start_time": "2023-12-15T20:03:17.324836",
     "status": "completed"
    },
    "tags": []
   },
   "outputs": [],
   "source": [
    "adata_subset = sc.read_h5ad(\"merfish_H20.33.001.CX28.MTG.02.007.1.02.02.h5ad\", backed='r')"
   ]
  },
  {
   "cell_type": "code",
   "execution_count": null,
   "id": "1f0125d7",
   "metadata": {
    "execution": {
     "iopub.execute_input": "2023-12-15T20:03:17.451821Z",
     "iopub.status.busy": "2023-12-15T20:03:17.451635Z",
     "iopub.status.idle": "2023-12-15T20:03:17.461126Z",
     "shell.execute_reply": "2023-12-15T20:03:17.460755Z"
    },
    "papermill": {
     "duration": 0.013307,
     "end_time": "2023-12-15T20:03:17.462380",
     "exception": false,
     "start_time": "2023-12-15T20:03:17.449073",
     "status": "completed"
    },
    "tags": []
   },
   "outputs": [],
   "source": [
    "def get_plots(num_hops, K=10):\n",
    "    sparseA = kneighbors_graph(adata_subset.obsm['X_selected_cell_spatial_tiled'], K, mode='connectivity', include_self=False)\n",
    "    A = sparseA.todense()\n",
    "    G = nx.from_numpy_array(A)\n",
    "    # X_cmbn = np.concatenate((adata_subset[:,:].X.toarray(), adata_subset.obsm['X_phate']), axis=1)\n",
    "    X_cmbn = adata_subset[:,:].X.toarray()\n",
    "    data = from_networkx(G)\n",
    "    data.x = torch.tensor(X_cmbn)\n",
    "    original_dataset = [data]\n",
    "    to_hg_func = lambda g: Hypergraph.from_graph_kHop(g, num_hops)\n",
    "    dataset = HGDataset(original_dataset, to_hg_func)\n",
    "    coordinates = adata_subset.obsm['X_selected_cell_spatial_tiled']\n",
    "    eidf = get_hyperedge_pos_df(dataset[0], coordinates)\n",
    "    enlarged_hulls = compute_enlarged_hulls(eidf)\n",
    "    model = HyperScatteringModule(in_channels=1, # doesn't matter here.\n",
    "              trainable_laziness = False,\n",
    "              trainable_scales = False, \n",
    "              activation = None, # just get one layer of wavelet transform \n",
    "              fixed_weights=True, \n",
    "              normalize='right', \n",
    "              reshape=False,\n",
    "        ).to(device)\n",
    "    init_node_sig = torch.from_numpy(X_cmbn[:, 1].reshape(-1, 1)).to(device)\n",
    "    init_he_sig = torch.zeros(dataset[0].edge_attr.shape[0], 1, device=device)\n",
    "    heidx = dataset[0].edge_index.to(device)\n",
    "    s_nodes, s_edges = model(init_node_sig, heidx, hyperedge_attr = init_he_sig)\n",
    "    node_feats = s_nodes[0,:,:,0].detach().cpu().numpy().T\n",
    "    edge_feats = s_edges[0,:,:,0].detach().cpu().numpy().T\n",
    "    plot_wavelets(node_feats, edge_feats, coordinates, enlarged_hulls, title=f'Marker, k={K}, n_hops={num_hops}', alpha=0.2)\n",
    "    plt.show()\n",
    "    scprep.plot.scatter2d(coordinates, c=init_node_sig.cpu().numpy(), cmap='viridis')\n",
    "    plt.show()\n",
    "    np.random.seed(32)\n",
    "    one_pos = np.random.choice(X_cmbn.shape[0], 10)\n",
    "    dirac_sig = torch.zeros((X_cmbn.shape[0], 1))\n",
    "    dirac_sig[one_pos, :] = 1\n",
    "    init_node_sig = dirac_sig.to(device)\n",
    "    init_he_sig = torch.zeros(dataset[0].edge_attr.shape[0], 1, device=device)\n",
    "    heidx = dataset[0].edge_index.to(device)\n",
    "    s_nodes, s_edges = model(init_node_sig, heidx, hyperedge_attr = init_he_sig)\n",
    "    node_feats = s_nodes[0,:,:,0].detach().cpu().numpy().T\n",
    "    edge_feats = s_edges[0,:,:,0].detach().cpu().numpy().T\n",
    "    plot_wavelets(node_feats, edge_feats, coordinates, enlarged_hulls, title=f'Dirac, k={K}, n_hops={num_hops}', alpha=0.2)\n",
    "    plt.show()\n",
    "    scprep.plot.scatter2d(coordinates, c=init_node_sig.cpu().numpy(), cmap='viridis')\n",
    "    plt.show()\n",
    "    return dataset"
   ]
  },
  {
   "cell_type": "code",
   "execution_count": null,
   "id": "18892b8b",
   "metadata": {
    "execution": {
     "iopub.execute_input": "2023-12-15T20:03:17.466488Z",
     "iopub.status.busy": "2023-12-15T20:03:17.466310Z"
    },
    "papermill": {
     "duration": null,
     "end_time": null,
     "exception": false,
     "start_time": "2023-12-15T20:03:17.464060",
     "status": "running"
    },
    "tags": []
   },
   "outputs": [],
   "source": [
    "for k in [3, 5, 10, 15]:\n",
    "    for h in [1, 2, 3, 4]:\n",
    "        get_plots(h, k)"
   ]
  },
  {
   "cell_type": "code",
   "execution_count": null,
   "id": "7bfeb65a",
   "metadata": {
    "papermill": {
     "duration": null,
     "end_time": null,
     "exception": null,
     "start_time": null,
     "status": "pending"
    },
    "tags": []
   },
   "outputs": [],
   "source": [
    "# data_from_clique = get_cliques_planar(data)"
   ]
  },
  {
   "cell_type": "code",
   "execution_count": null,
   "id": "dc3dfb1d",
   "metadata": {
    "papermill": {
     "duration": null,
     "end_time": null,
     "exception": null,
     "start_time": null,
     "status": "pending"
    },
    "tags": []
   },
   "outputs": [],
   "source": [
    "# data_from_clique"
   ]
  },
  {
   "cell_type": "code",
   "execution_count": null,
   "id": "fb0e7751",
   "metadata": {
    "papermill": {
     "duration": null,
     "end_time": null,
     "exception": null,
     "start_time": null,
     "status": "pending"
    },
    "tags": []
   },
   "outputs": [],
   "source": [
    "# data_from_clique.three_cliques"
   ]
  },
  {
   "cell_type": "code",
   "execution_count": null,
   "id": "1dd5da02",
   "metadata": {
    "papermill": {
     "duration": null,
     "end_time": null,
     "exception": null,
     "start_time": null,
     "status": "pending"
    },
    "tags": []
   },
   "outputs": [],
   "source": []
  }
 ],
 "metadata": {
  "kernelspec": {
   "display_name": "pyg",
   "language": "python",
   "name": "python3"
  },
  "language_info": {
   "codemirror_mode": {
    "name": "ipython",
    "version": 3
   },
   "file_extension": ".py",
   "mimetype": "text/x-python",
   "name": "python",
   "nbconvert_exporter": "python",
   "pygments_lexer": "ipython3",
   "version": "3.9.16"
  },
  "papermill": {
   "default_parameters": {},
   "duration": null,
   "end_time": null,
   "environment_variables": {},
   "exception": null,
   "input_path": "merfish_diracs.ipynb",
   "output_path": "merfish_diracs.ipynb",
   "parameters": {},
   "start_time": "2023-12-15T20:02:04.567376",
   "version": "2.5.0"
  }
 },
 "nbformat": 4,
 "nbformat_minor": 5
}
