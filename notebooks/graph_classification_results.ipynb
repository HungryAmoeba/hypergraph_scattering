{
 "cells": [
  {
   "cell_type": "code",
   "execution_count": 6,
   "metadata": {},
   "outputs": [],
   "source": [
    "import pandas as pd\n",
    "\n",
    "datasets = {'MUTAG': 188, 'ENZYMES':600, 'PROTEINS':1113}\n",
    "res_df = []\n",
    "for dataset, num_nodes in datasets.items():\n",
    "    df = pd.read_csv(f'../experiments/HGDataset({num_nodes})_test_metrics.csv')\n",
    "    # Initialize a dictionary to store the formatted results\n",
    "    results = {'Dataset': dataset}\n",
    "\n",
    "    # Iterate over each column (metric) in the dataframe\n",
    "    for metric in df.columns:\n",
    "        # Skip the 'fold' column\n",
    "        if metric == 'fold':\n",
    "            continue\n",
    "\n",
    "        # Calculate mean and standard deviation\n",
    "        mean = df[metric].mean()\n",
    "        std = df[metric].std()\n",
    "\n",
    "        # Format the result as \"mean ± std\" and store it in the dictionary\n",
    "        results[metric] = f\"{mean:.3f} ± {std:.3f}\"\n",
    "\n",
    "    res_df.append(results)\n",
    "res_df = pd.DataFrame(res_df)"
   ]
  },
  {
   "cell_type": "code",
   "execution_count": 7,
   "metadata": {},
   "outputs": [
    {
     "data": {
      "text/html": [
       "<div>\n",
       "<style scoped>\n",
       "    .dataframe tbody tr th:only-of-type {\n",
       "        vertical-align: middle;\n",
       "    }\n",
       "\n",
       "    .dataframe tbody tr th {\n",
       "        vertical-align: top;\n",
       "    }\n",
       "\n",
       "    .dataframe thead th {\n",
       "        text-align: right;\n",
       "    }\n",
       "</style>\n",
       "<table border=\"1\" class=\"dataframe\">\n",
       "  <thead>\n",
       "    <tr style=\"text-align: right;\">\n",
       "      <th></th>\n",
       "      <th>Dataset</th>\n",
       "      <th>test_loss_epoch</th>\n",
       "      <th>test_acc_epoch</th>\n",
       "      <th>test_auc_epoch</th>\n",
       "    </tr>\n",
       "  </thead>\n",
       "  <tbody>\n",
       "    <tr>\n",
       "      <th>0</th>\n",
       "      <td>MUTAG</td>\n",
       "      <td>0.566 ± 0.278</td>\n",
       "      <td>0.795 ± 0.086</td>\n",
       "      <td>0.861 ± 0.057</td>\n",
       "    </tr>\n",
       "    <tr>\n",
       "      <th>1</th>\n",
       "      <td>ENZYMES</td>\n",
       "      <td>1.639 ± 0.300</td>\n",
       "      <td>0.577 ± 0.021</td>\n",
       "      <td>0.309 ± 0.037</td>\n",
       "    </tr>\n",
       "    <tr>\n",
       "      <th>2</th>\n",
       "      <td>PROTEINS</td>\n",
       "      <td>0.545 ± 0.109</td>\n",
       "      <td>0.775 ± 0.035</td>\n",
       "      <td>0.093 ± 0.039</td>\n",
       "    </tr>\n",
       "  </tbody>\n",
       "</table>\n",
       "</div>"
      ],
      "text/plain": [
       "    Dataset test_loss_epoch test_acc_epoch test_auc_epoch\n",
       "0     MUTAG   0.566 ± 0.278  0.795 ± 0.086  0.861 ± 0.057\n",
       "1   ENZYMES   1.639 ± 0.300  0.577 ± 0.021  0.309 ± 0.037\n",
       "2  PROTEINS   0.545 ± 0.109  0.775 ± 0.035  0.093 ± 0.039"
      ]
     },
     "execution_count": 7,
     "metadata": {},
     "output_type": "execute_result"
    }
   ],
   "source": [
    "res_df"
   ]
  },
  {
   "cell_type": "code",
   "execution_count": null,
   "metadata": {},
   "outputs": [],
   "source": []
  }
 ],
 "metadata": {
  "kernelspec": {
   "display_name": "pyg",
   "language": "python",
   "name": "python3"
  },
  "language_info": {
   "codemirror_mode": {
    "name": "ipython",
    "version": 3
   },
   "file_extension": ".py",
   "mimetype": "text/x-python",
   "name": "python",
   "nbconvert_exporter": "python",
   "pygments_lexer": "ipython3",
   "version": "3.9.16"
  }
 },
 "nbformat": 4,
 "nbformat_minor": 2
}
