{
 "cells": [
  {
   "cell_type": "code",
   "execution_count": 3,
   "metadata": {},
   "outputs": [],
   "source": [
    "from w2 import compute_w2\n",
    "import torch"
   ]
  },
  {
   "cell_type": "code",
   "execution_count": 4,
   "metadata": {},
   "outputs": [
    {
     "data": {
      "text/plain": [
       "tensor(1.4535)"
      ]
     },
     "execution_count": 4,
     "metadata": {},
     "output_type": "execute_result"
    }
   ],
   "source": [
    "# Example data for two 2D Gaussian distributions\n",
    "mu1 = torch.tensor([0.0, 0.0])\n",
    "mu2 = torch.tensor([1.0, 1.0])\n",
    "sig1 = torch.tensor([[1.0, 0.2], [0.2, 1.0]])\n",
    "sig2 = torch.tensor([[1.5, 0.5], [0.5, 1.5]])\n",
    "\n",
    "# Compute the 2-Wasserstein distance\n",
    "w2_distance = compute_w2(mu1, mu2, sig1, sig2)\n",
    "w2_distance"
   ]
  },
  {
   "cell_type": "code",
   "execution_count": null,
   "metadata": {},
   "outputs": [],
   "source": []
  }
 ],
 "metadata": {
  "kernelspec": {
   "display_name": "pyg",
   "language": "python",
   "name": "python3"
  },
  "language_info": {
   "codemirror_mode": {
    "name": "ipython",
    "version": 3
   },
   "file_extension": ".py",
   "mimetype": "text/x-python",
   "name": "python",
   "nbconvert_exporter": "python",
   "pygments_lexer": "ipython3",
   "version": "3.9.16"
  },
  "orig_nbformat": 4
 },
 "nbformat": 4,
 "nbformat_minor": 2
}
